{
 "cells": [
  {
   "cell_type": "code",
   "execution_count": 50,
   "metadata": {},
   "outputs": [],
   "source": [
    "from bs4 import BeautifulSoup\n",
    "from urllib.request import urlopen\n",
    "import pandas as pd\n",
    "import numpy as np\n",
    "\n",
    "uClient = urlopen('https://www.newegg.com/p/pl?d=graphics+cards')\n",
    "page_html = uClient.read()\n",
    "uClient.close()\n",
    "page_soup = BeautifulSoup(page_html, 'html.parser')\n",
    "containers = page_soup.findAll(\"div\", {\"class\": \"item-container\"})\n",
    "\n",
    "f = open(\"products.csv\", \"w\")\n",
    "headers = \"brand, product_name, shipping\\n\"\n",
    "f.write(headers)\n",
    "for container in containers:\n",
    "    if container.div.div != None:\n",
    "        brand = container.div.div.a.img['title']\n",
    "        title_container = container.findAll(\"a\", {\"class\":\"item-title\"})\n",
    "        product_name = title_container[0].text\n",
    "        shipping_container = container.findAll(\"li\", {\"class\":\"price-ship\"})\n",
    "        shipping = shipping_container[0].text.strip()\n",
    "        f.write(brand + \",\" + product_name.replace(',', '|') + \",\" + shipping + \"\\n\")\n",
    "f.close()"
   ]
  }
 ],
 "metadata": {
  "kernelspec": {
   "display_name": "Python 3",
   "language": "python",
   "name": "python3"
  },
  "language_info": {
   "codemirror_mode": {
    "name": "ipython",
    "version": 3
   },
   "file_extension": ".py",
   "mimetype": "text/x-python",
   "name": "python",
   "nbconvert_exporter": "python",
   "pygments_lexer": "ipython3",
   "version": "3.7.6"
  }
 },
 "nbformat": 4,
 "nbformat_minor": 4
}
