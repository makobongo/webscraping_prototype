{
 "cells": [
  {
   "cell_type": "code",
   "execution_count": 92,
   "metadata": {},
   "outputs": [],
   "source": [
    "from bs4 import BeautifulSoup\n",
    "from urllib.request import Request,urlopen\n",
    "\n",
    "req = Request('https://www.jumia.co.ke/smartphones/', headers={'User-Agent': 'Mozilla/5.0'})\n",
    "webpage = urlopen(req).read()\n",
    "page_soup = BeautifulSoup(webpage, 'html.parser')\n",
    "containers = page_soup.findAll(\"a\", {\"class\":\"core\"})\n",
    "\n",
    "f = open(\"smartphones.csv\", \"w\")\n",
    "headers = \"description,new_price,old_price,discount,ratings\\n\"\n",
    "f.write(headers)\n",
    "for container in containers:\n",
    "    container_description  = container.findAll(\"div\",{\"class\":\"info\"})\n",
    "    description = container_description[0].h3.text\n",
    "    new_price = container_description[0].findAll(\"div\",{\"class\":\"prc\"})[0].text\n",
    "    if container_description[0].findAll(\"div\", {\"class\":\"s-prc-w\"}):\n",
    "        old_price = container_description[0].findAll(\"div\", {\"class\":\"s-prc-w\"})[0].find(\"div\",{\"class\":\"old\"}).text\n",
    "        discount = container_description[0].findAll(\"div\", {\"class\":\"s-prc-w\"})[0].find(\"div\",{\"class\":\"tag _dsct _sm\"}).text\n",
    "    if container_description[0].findAll(\"div\",{\"class\":\"rev\"}):\n",
    "        ratings = container_description[0].findAll(\"div\",{\"class\":\"rev\"})[0].find(\"div\",{\"class\":\"stars _s\"}).text\n",
    "    f.write(description.replace(\",\",\"|\") + \",\" + new_price + \",\" + old_price + \",\" + discount + \",\" + ratings + \"\\n\")\n",
    "f.close()\n",
    "    "
   ]
  }
 ],
 "metadata": {
  "kernelspec": {
   "display_name": "Python 3",
   "language": "python",
   "name": "python3"
  },
  "language_info": {
   "codemirror_mode": {
    "name": "ipython",
    "version": 3
   },
   "file_extension": ".py",
   "mimetype": "text/x-python",
   "name": "python",
   "nbconvert_exporter": "python",
   "pygments_lexer": "ipython3",
   "version": "3.7.6"
  }
 },
 "nbformat": 4,
 "nbformat_minor": 4
}
