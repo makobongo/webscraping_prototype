{
 "cells": [
  {
   "cell_type": "code",
   "execution_count": 92,
   "metadata": {},
   "outputs": [],
   "source": [
    "from bs4 import BeautifulSoup\n",
    "from urllib.request import Request,urlopen\n",
    "\n",
    "req = Request('https://www.jumia.co.ke/smartphones/', headers={'User-Agent': 'Mozilla/5.0'})\n",
    "webpage = urlopen(req).read()\n",
    "page_soup = BeautifulSoup(webpage, 'html.parser')\n",
    "containers = page_soup.findAll(\"a\", {\"class\":\"core\"})\n",
    "\n",
    "f = open(\"smartphones.csv\", \"w\")\n",
    "headers = \"description,new_price,old_price,discount,ratings\\n\"\n",
    "f.write(headers)\n",
    "for container in containers:\n",
    "    container_description  = container.findAll(\"div\",{\"class\":\"info\"})\n",
    "    description = container_description[0].h3.text\n",
    "    new_price = container_description[0].findAll(\"div\",{\"class\":\"prc\"})[0].text\n",
    "    if container_description[0].findAll(\"div\", {\"class\":\"s-prc-w\"}):\n",
    "        old_price = container_description[0].findAll(\"div\", {\"class\":\"s-prc-w\"})[0].find(\"div\",{\"class\":\"old\"}).text\n",
    "        discount = container_description[0].findAll(\"div\", {\"class\":\"s-prc-w\"})[0].find(\"div\",{\"class\":\"tag _dsct _sm\"}).text\n",
    "    if container_description[0].findAll(\"div\",{\"class\":\"rev\"}):\n",
    "        ratings = container_description[0].findAll(\"div\",{\"class\":\"rev\"})[0].find(\"div\",{\"class\":\"stars _s\"}).text\n",
    "    f.write(description.replace(\",\",\"|\") + \",\" + new_price + \",\" + old_price + \",\" + discount + \",\" + ratings + \"\\n\")\n",
    "f.close()\n",
    "    "
   ]
  },
  {
   "cell_type": "code",
   "execution_count": 27,
   "metadata": {},
   "outputs": [],
   "source": [
    "import pandas as pd\n",
    "j = pd.read_csv('Records.csv')\n",
    "j.columns = j.columns.str.lower()\n",
    "j.columns = j.columns.str.replace(\" \",\"_\")\n",
    "# b = pd.DataFrame(j)\n",
    "# print(b.info())\n",
    "# print(b[b['Country']==\"Canada\"])\n",
    "# print(j)"
   ]
  },
  {
   "cell_type": "markdown",
   "metadata": {},
   "source": [
    "#### Saving data after transformation to another csv file"
   ]
  },
  {
   "cell_type": "code",
   "execution_count": 73,
   "metadata": {},
   "outputs": [
    {
     "name": "stdout",
     "output_type": "stream",
     "text": [
      "<class 'pandas.core.frame.DataFrame'>\n",
      "RangeIndex: 1000 entries, 0 to 999\n",
      "Data columns (total 14 columns):\n",
      " #   Column          Non-Null Count  Dtype  \n",
      "---  ------          --------------  -----  \n",
      " 0   region          1000 non-null   object \n",
      " 1   country         1000 non-null   object \n",
      " 2   item_type       1000 non-null   object \n",
      " 3   sales_channel   1000 non-null   object \n",
      " 4   order_priority  1000 non-null   object \n",
      " 5   order_date      1000 non-null   object \n",
      " 6   order_id        1000 non-null   int64  \n",
      " 7   ship_date       1000 non-null   object \n",
      " 8   units_sold      1000 non-null   int64  \n",
      " 9   unit_price      1000 non-null   float64\n",
      " 10  unit_cost       1000 non-null   float64\n",
      " 11  total_revenue   1000 non-null   float64\n",
      " 12  total_cost      1000 non-null   float64\n",
      " 13  total_profit    1000 non-null   float64\n",
      "dtypes: float64(5), int64(2), object(7)\n",
      "memory usage: 109.5+ KB\n",
      "None\n"
     ]
    }
   ],
   "source": [
    "j.to_csv(\"records2.csv\", index=False)\n",
    "print(j.info())\n",
    "# print(\"success!\")"
   ]
  },
  {
   "cell_type": "markdown",
   "metadata": {},
   "source": [
    "#### Connecting to database and creating table"
   ]
  },
  {
   "cell_type": "code",
   "execution_count": 76,
   "metadata": {},
   "outputs": [
    {
     "name": "stdout",
     "output_type": "stream",
     "text": [
      "success!\n"
     ]
    }
   ],
   "source": [
    "import pymysql\n",
    "db = pymysql.connect(\"localhost\",\"root\",\"makobongo\",\"pyDatabase\" )\n",
    "cursor = db.cursor()\n",
    "sql = \"\"\"CREATE TABLE records (\n",
    "        region VARCHAR(255),\n",
    "        country VARCHAR(255),\n",
    "        item_type VARCHAR(255),\n",
    "        sales_channel VARCHAR(255),\n",
    "        order_priority char,\n",
    "        order_date VARCHAR(255),\n",
    "        order_id int,\n",
    "        ship_date VARCHAR(255),\n",
    "        units_sold int,\n",
    "        unit_price float,\n",
    "        unit_cost float,\n",
    "        total_revenue float,\n",
    "        total_cost float,\n",
    "        total_profit float\n",
    "        )\"\"\"\n",
    "try:\n",
    "    cursor.execute(sql)\n",
    "    print(\"success!\")\n",
    "except:\n",
    "    print(\"fail!\")"
   ]
  },
  {
   "cell_type": "markdown",
   "metadata": {},
   "source": [
    "#### Reading from CSV and inserting into csv records to mysql database"
   ]
  },
  {
   "cell_type": "code",
   "execution_count": 77,
   "metadata": {},
   "outputs": [],
   "source": [
    "import csv\n",
    "with open('records2.csv') as csvfile:\n",
    "    sReader = csv.reader(csvfile)\n",
    "    next(sReader)\n",
    "    for row in sReader:\n",
    "#         print(row[0])\n",
    "        sql = \"\"\"\n",
    "            INSERT INTO records(\n",
    "                region,\n",
    "                country,\n",
    "                item_type,\n",
    "                sales_channel,\n",
    "                order_priority,\n",
    "                order_date,\n",
    "                order_id,\n",
    "                ship_date,\n",
    "                units_sold,\n",
    "                unit_price,\n",
    "                unit_cost,\n",
    "                total_revenue,\n",
    "                total_cost,\n",
    "                total_profit\n",
    "            ) VALUES (\n",
    "                %s,\n",
    "                %s,\n",
    "                %s,\n",
    "                %s,\n",
    "                %s,\n",
    "                %s,\n",
    "                %s,\n",
    "                %s,\n",
    "                %s,\n",
    "                %s,\n",
    "                %s,\n",
    "                %s,\n",
    "                %s,\n",
    "                %s\n",
    "            )\n",
    "        \"\"\"\n",
    "        val = (row[0], row[1], row[2], row[3], row[4], row[5], row[6], row[7], row[8], row[9], row[10], row[11], row[12], row[13])\n",
    "        try:\n",
    "            cursor.execute(sql, val)\n",
    "            db.commit()\n",
    "        except(e):\n",
    "            print(e)"
   ]
  }
 ],
 "metadata": {
  "kernelspec": {
   "display_name": "Python 3",
   "language": "python",
   "name": "python3"
  },
  "language_info": {
   "codemirror_mode": {
    "name": "ipython",
    "version": 3
   },
   "file_extension": ".py",
   "mimetype": "text/x-python",
   "name": "python",
   "nbconvert_exporter": "python",
   "pygments_lexer": "ipython3",
   "version": "3.7.6"
  }
 },
 "nbformat": 4,
 "nbformat_minor": 4
}
